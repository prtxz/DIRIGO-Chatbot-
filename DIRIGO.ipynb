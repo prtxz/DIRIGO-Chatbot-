{
  "cells": [
    {
      "cell_type": "markdown",
      "metadata": {
        "id": "view-in-github",
        "colab_type": "text"
      },
      "source": [
        "<a href=\"https://colab.research.google.com/github/prtxz/DIRIGO-Chatbot-/blob/main/DIRIGO.ipynb\" target=\"_parent\"><img src=\"https://colab.research.google.com/assets/colab-badge.svg\" alt=\"Open In Colab\"/></a>"
      ]
    },
    {
      "cell_type": "code",
      "execution_count": null,
      "metadata": {
        "id": "gGotOFDcXQV_"
      },
      "outputs": [],
      "source": [
        "import pandas as pd\n",
        "import random\n",
        "import matplotlib.pyplot as plt\n",
        "import seaborn as sns\n",
        "from sklearn.feature_extraction.text import CountVectorizer\n",
        "from sklearn.feature_extraction.text import TfidfVectorizer\n",
        "from sklearn.model_selection import train_test_split\n",
        "from sklearn.naive_bayes import MultinomialNB\n",
        "from sklearn.linear_model import LogisticRegression\n",
        "from sklearn.svm import SVC\n",
        "from sklearn.tree import DecisionTreeClassifier\n",
        "from sklearn.ensemble import RandomForestClassifier\n",
        "from sklearn.metrics import accuracy_score, classification_report\n",
        "from google.colab import drive\n"
      ]
    },
    {
      "cell_type": "code",
      "execution_count": null,
      "metadata": {
        "colab": {
          "base_uri": "https://localhost:8080/"
        },
        "id": "KT8NjMU1ixZZ",
        "outputId": "baa9c50f-c87a-4947-cf17-5bad6b047e75"
      },
      "outputs": [
        {
          "output_type": "stream",
          "name": "stdout",
          "text": [
            "Drive already mounted at /content/drive; to attempt to forcibly remount, call drive.mount(\"/content/drive\", force_remount=True).\n"
          ]
        }
      ],
      "source": [
        "drive.mount('/content/drive')"
      ]
    },
    {
      "cell_type": "code",
      "source": [
        "file_path_professors = '/content/drive/My Drive/DIRIGO_ML/professors.csv'\n",
        "file_path_labs = '/content/drive/My Drive/DIRIGO_ML/labs.csv'"
      ],
      "metadata": {
        "id": "DWu1dEuX_h6w"
      },
      "execution_count": null,
      "outputs": []
    },
    {
      "cell_type": "code",
      "execution_count": null,
      "metadata": {
        "id": "E6m4gg2ujOdi"
      },
      "outputs": [],
      "source": [
        "professors_df = pd.read_csv(file_path_professors)\n",
        "labs_df = pd.read_csv(file_path_labs)"
      ]
    },
    {
      "cell_type": "code",
      "execution_count": null,
      "metadata": {
        "colab": {
          "base_uri": "https://localhost:8080/"
        },
        "id": "h1VkcMkbjTUs",
        "outputId": "bc4c9971-de49-4163-914d-b49d8d5e703c"
      },
      "outputs": [
        {
          "output_type": "stream",
          "name": "stdout",
          "text": [
            "Professors DataFrame:\n",
            "               name  room  floor              department\n",
            "0       David Joyce   403      4        Computer Science\n",
            "1      Brian Powell   362      5                 Physics\n",
            "2      Rebecca Rose   101      5                 Physics\n",
            "3    Andrew Wheeler   108      5        Computer Science\n",
            "4  Jennifer Cabrera   399      5  Mechanical Engineering\n",
            "\n",
            "Labs DataFrame:\n",
            "                lab_name  room  floor              subject\n",
            "0   Carl Friedrich Gauss   336      1          Mathematics\n",
            "1        Tim Berners-Lee   105      2      Cloud Computing\n",
            "2              Vint Cerf   393      3      Cloud Computing\n",
            "3      Rosalind Franklin   427      3         Biochemistry\n",
            "4           Nikola Tesla   254      3  Electrical Circuits\n"
          ]
        }
      ],
      "source": [
        "print(\"Professors DataFrame:\")\n",
        "print(professors_df.head())\n",
        "print(\"\\nLabs DataFrame:\")\n",
        "print(labs_df.head())"
      ]
    },
    {
      "cell_type": "code",
      "execution_count": null,
      "metadata": {
        "id": "2e4xNiAMjZ9a"
      },
      "outputs": [],
      "source": [
        "training_data = [\n",
        "    (\"Where can I meet the professor?\", \"professor\"),\n",
        "    (\"What is the room number for a professor?\", \"professor\"),\n",
        "    (\"Where is the lab for Physics?\", \"labs\"),\n",
        "    (\"Which subject is Galileo Lab related to?\", \"labs\"),\n",
        "    (\"Locate the professor's office.\", \"professor\"),\n",
        "    (\"Where is the Robotics Lab?\", \"labs\"),\n",
        "    (\"Tell me about Tesla Lab.\", \"labs\"),\n",
        "    (\"Find Analog Circuits lab.\", \"labs\"),\n",
        "]\n"
      ]
    },
    {
      "cell_type": "code",
      "execution_count": null,
      "metadata": {
        "id": "tJbhDc5yjbfU"
      },
      "outputs": [],
      "source": [
        "queries, labels = zip(*training_data)\n",
        "vectorizer = CountVectorizer()\n",
        "X = vectorizer.fit_transform(queries)\n",
        "y = labels"
      ]
    },
    {
      "cell_type": "code",
      "execution_count": null,
      "metadata": {
        "id": "q8PcQNUnjiee"
      },
      "outputs": [],
      "source": [
        "X_train, X_test, y_train, y_test = train_test_split(X, y, test_size=0.2, random_state=42)\n"
      ]
    },
    {
      "cell_type": "code",
      "execution_count": null,
      "metadata": {
        "id": "bH31pMmajm7o"
      },
      "outputs": [],
      "source": [
        "models = {\n",
        "    \"Naive Bayes\": MultinomialNB(),\n",
        "    \"Logistic Regression\": LogisticRegression(),\n",
        "    \"SVM\": SVC(kernel=\"linear\"),\n",
        "    \"Decision Tree\": DecisionTreeClassifier(),\n",
        "    \"Random Forest\": RandomForestClassifier(n_estimators=100, random_state=42),\n",
        "}"
      ]
    },
    {
      "cell_type": "code",
      "execution_count": null,
      "metadata": {
        "colab": {
          "base_uri": "https://localhost:8080/"
        },
        "id": "ctwI9aEpjqp3",
        "outputId": "1abefd90-a02b-49dc-c592-ff32b26407eb"
      },
      "outputs": [
        {
          "output_type": "stream",
          "name": "stdout",
          "text": [
            "\n",
            "Naive Bayes Classification Report:\n",
            "\n",
            "              precision    recall  f1-score   support\n",
            "\n",
            "        labs       1.00      1.00      1.00         1\n",
            "   professor       1.00      1.00      1.00         1\n",
            "\n",
            "    accuracy                           1.00         2\n",
            "   macro avg       1.00      1.00      1.00         2\n",
            "weighted avg       1.00      1.00      1.00         2\n",
            "\n",
            "\n",
            "Logistic Regression Classification Report:\n",
            "\n",
            "              precision    recall  f1-score   support\n",
            "\n",
            "        labs       0.50      1.00      0.67         1\n",
            "   professor       0.00      0.00      0.00         1\n",
            "\n",
            "    accuracy                           0.50         2\n",
            "   macro avg       0.25      0.50      0.33         2\n",
            "weighted avg       0.25      0.50      0.33         2\n",
            "\n",
            "\n",
            "SVM Classification Report:\n",
            "\n",
            "              precision    recall  f1-score   support\n",
            "\n",
            "        labs       1.00      1.00      1.00         1\n",
            "   professor       1.00      1.00      1.00         1\n",
            "\n",
            "    accuracy                           1.00         2\n",
            "   macro avg       1.00      1.00      1.00         2\n",
            "weighted avg       1.00      1.00      1.00         2\n",
            "\n",
            "\n",
            "Decision Tree Classification Report:\n",
            "\n",
            "              precision    recall  f1-score   support\n",
            "\n",
            "        labs       1.00      1.00      1.00         1\n",
            "   professor       1.00      1.00      1.00         1\n",
            "\n",
            "    accuracy                           1.00         2\n",
            "   macro avg       1.00      1.00      1.00         2\n",
            "weighted avg       1.00      1.00      1.00         2\n",
            "\n"
          ]
        },
        {
          "output_type": "stream",
          "name": "stderr",
          "text": [
            "/usr/local/lib/python3.10/dist-packages/sklearn/metrics/_classification.py:1565: UndefinedMetricWarning: Precision is ill-defined and being set to 0.0 in labels with no predicted samples. Use `zero_division` parameter to control this behavior.\n",
            "  _warn_prf(average, modifier, f\"{metric.capitalize()} is\", len(result))\n",
            "/usr/local/lib/python3.10/dist-packages/sklearn/metrics/_classification.py:1565: UndefinedMetricWarning: Precision is ill-defined and being set to 0.0 in labels with no predicted samples. Use `zero_division` parameter to control this behavior.\n",
            "  _warn_prf(average, modifier, f\"{metric.capitalize()} is\", len(result))\n",
            "/usr/local/lib/python3.10/dist-packages/sklearn/metrics/_classification.py:1565: UndefinedMetricWarning: Precision is ill-defined and being set to 0.0 in labels with no predicted samples. Use `zero_division` parameter to control this behavior.\n",
            "  _warn_prf(average, modifier, f\"{metric.capitalize()} is\", len(result))\n"
          ]
        },
        {
          "output_type": "stream",
          "name": "stdout",
          "text": [
            "\n",
            "Random Forest Classification Report:\n",
            "\n",
            "              precision    recall  f1-score   support\n",
            "\n",
            "        labs       1.00      1.00      1.00         1\n",
            "   professor       1.00      1.00      1.00         1\n",
            "\n",
            "    accuracy                           1.00         2\n",
            "   macro avg       1.00      1.00      1.00         2\n",
            "weighted avg       1.00      1.00      1.00         2\n",
            "\n"
          ]
        }
      ],
      "source": [
        "results = {}\n",
        "trained_models = {}\n",
        "for model_name, model in models.items():\n",
        "    model.fit(X_train, y_train)\n",
        "    trained_models[model_name] = model\n",
        "    predictions = model.predict(X_test)\n",
        "    accuracy = accuracy_score(y_test, predictions)\n",
        "    results[model_name] = accuracy\n",
        "    print(f\"\\n{model_name} Classification Report:\\n\")\n",
        "    print(classification_report(y_test, predictions))\n"
      ]
    },
    {
      "cell_type": "code",
      "execution_count": null,
      "metadata": {
        "colab": {
          "base_uri": "https://localhost:8080/"
        },
        "id": "hpdYxqbSjuRJ",
        "outputId": "54b1a7bf-0720-4f4f-c647-ed959506f0aa"
      },
      "outputs": [
        {
          "output_type": "stream",
          "name": "stdout",
          "text": [
            "\n",
            "Accuracy Comparison:\n",
            "Naive Bayes: 1.00\n",
            "Logistic Regression: 0.50\n",
            "SVM: 1.00\n",
            "Decision Tree: 1.00\n",
            "Random Forest: 1.00\n"
          ]
        }
      ],
      "source": [
        "print(\"\\nAccuracy Comparison:\")\n",
        "for model_name, accuracy in results.items():\n",
        "    print(f\"{model_name}: {accuracy:.2f}\")"
      ]
    },
    {
      "cell_type": "code",
      "execution_count": null,
      "metadata": {
        "colab": {
          "base_uri": "https://localhost:8080/"
        },
        "id": "ggFPKgsyjzkK",
        "outputId": "ab10e079-8647-4609-ff84-a188e27f03d5"
      },
      "outputs": [
        {
          "output_type": "stream",
          "name": "stdout",
          "text": [
            "\n",
            "Using Naive Bayes as the chatbot's model.\n",
            "\n"
          ]
        }
      ],
      "source": [
        "best_model_name = max(results, key=results.get)\n",
        "best_model = trained_models[best_model_name]\n",
        "print(f\"\\nUsing {best_model_name} as the chatbot's model.\\n\")\n"
      ]
    },
    {
      "cell_type": "code",
      "execution_count": null,
      "metadata": {
        "colab": {
          "base_uri": "https://localhost:8080/",
          "height": 654
        },
        "id": "fFc-AI1u1tNx",
        "outputId": "ee906503-c89e-4dfa-a776-cb14af76e600"
      },
      "outputs": [
        {
          "output_type": "display_data",
          "data": {
            "text/plain": [
              "<Figure size 1000x600 with 1 Axes>"
            ],
            "image/png": "[encoded data removed]"
          },
          "metadata": {}
        }
      ],
      "source": [
        "plt.figure(figsize=(10, 6))\n",
        "sns.barplot(x=list(results.keys()), y=list(results.values()))\n",
        "plt.title('Model Comparison - Accuracy')\n",
        "plt.xlabel('Model')\n",
        "plt.ylabel('Accuracy')\n",
        "plt.ylim(0, 1)\n",
        "plt.xticks(rotation=45)\n",
        "plt.show()"
      ]
    },
    {
      "cell_type": "code",
      "execution_count": null,
      "metadata": {
        "colab": {
          "base_uri": "https://localhost:8080/"
        },
        "id": "yA3-eIn0j3NR",
        "outputId": "8bda994d-4655-4ee7-ac7c-658fd86de90b"
      },
      "outputs": [
        {
          "metadata": {
            "tags": null
          },
          "name": "stdout",
          "output_type": "stream",
          "text": [
            "DIRIGO is ready! Type 'exit' to quit.\n",
            "\n"
          ]
        }
      ],
      "source": [
        "def DIRIGO_response(user_input):\n",
        "    # Transform the user input using the vectorizer\n",
        "    user_vector = vectorizer.transform([user_input.lower()])\n",
        "\n",
        "    # Set Naive Bayes as the best model\n",
        "    best_model = trained_models[\"Naive Bayes\"]  # Using Naive Bayes since it gives the best accuracy\n",
        "    query_type = best_model.predict(user_vector)[0]\n",
        "    response = \"\"\n",
        "\n",
        "    # If the query is about professors\n",
        "    if query_type == \"professor\":\n",
        "        for _, row in professors_df.iterrows():\n",
        "            if row[\"name\"].lower() in user_input.lower():\n",
        "                response = f\"You can meet {row['name']} in room {row['room']} on the {row['floor']} floor of the {row['department']} department.\"\n",
        "                break\n",
        "\n",
        "    # If the query is about labs\n",
        "    elif query_type == \"labs\":\n",
        "        found_lab = False  # Flag to track if a lab was found\n",
        "\n",
        "        # Loop through labs_df to search for relevant lab\n",
        "        for _, row in labs_df.iterrows():\n",
        "            lab_name = str(row[\"lab_name\"]).lower()\n",
        "            subject = str(row[\"subject\"]).lower()\n",
        "\n",
        "            # Check if either lab_name or subject is part of the user input\n",
        "            if lab_name in user_input.lower() or subject in user_input.lower():\n",
        "                found_lab = True\n",
        "                if 'department' in row and pd.notna(row['department']):\n",
        "                    response = f\"The {row['lab_name']} lab is located in room {row['room']} on the {row['floor']} floor of the {row['department']} department.\"\n",
        "                else:\n",
        "                    response = f\"The {row['lab_name']} lab is located in room {row['room']} on the {row['floor']} floor.\"\n",
        "                break  # Exit loop after finding the first match\n",
        "\n",
        "        if not found_lab:\n",
        "            response = \"Sorry, I couldn't find the lab you're looking for.\"\n",
        "\n",
        "    # If no relevant query type is found\n",
        "    if not response:\n",
        "        response = \"Sorry, I couldn't find the information you're looking for.\"\n",
        "\n",
        "    return response\n",
        "\n",
        "# Test chatbot functionality\n",
        "print(\"DIRIGO is ready! Type 'exit' to quit.\\n\")\n",
        "while True:\n",
        "    user_message = input(\"You: \")\n",
        "\n",
        "    # Exit condition\n",
        "    if user_message.lower() in [\"exit\", \"quit\"]:\n",
        "        print(\"DIRIGO: Goodbye!\")\n",
        "        break\n",
        "\n",
        "    # Print the response\n",
        "    print(f\"DIRIGO: {DIRIGO_response(user_message)}\")\n"
      ]
    }
  ],
  "metadata": {
    "colab": {
      "provenance": [],
      "authorship_tag": "ABX9TyOcS5RWslmacsFYSQ/pidFD",
      "include_colab_link": true
    },
    "kernelspec": {
      "display_name": "Python 3",
      "name": "python3"
    },
    "language_info": {
      "name": "python"
    }
  },
  "nbformat": 4,
  "nbformat_minor": 0
}